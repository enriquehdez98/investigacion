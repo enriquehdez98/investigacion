{
 "cells": [
  {
   "cell_type": "code",
   "execution_count": 63,
   "metadata": {},
   "outputs": [
    {
     "data": {
      "text/plain": [
       "'arbol_binario.pdf'"
      ]
     },
     "execution_count": 63,
     "metadata": {},
     "output_type": "execute_result"
    }
   ],
   "source": [
    "import graphviz\n",
    "\n",
    "class Nodo:\n",
    "    def __init__(self, valor):\n",
    "        self.valor = valor\n",
    "        self.izquierdo = None\n",
    "        self.derecho = None\n",
    "\n",
    "def insertar(raiz, valor):\n",
    "    if raiz is None:\n",
    "        return Nodo(valor)\n",
    "    else:\n",
    "        if raiz.izquierdo is None or (valor == \"CoPx\" or valor == \"CoPy\"):\n",
    "            raiz.izquierdo = insertar(raiz.izquierdo, valor)\n",
    "        elif  raiz.derecho is None:\n",
    "            raiz.derecho = insertar(raiz.derecho, valor)\n",
    "        else:\n",
    "            raiz.izquierdo = insertar(raiz.izquierdo, valor)\n",
    "    return raiz\n",
    "\n",
    "def recorrer_inorden(raiz):\n",
    "    if raiz:\n",
    "        recorrer_inorden(raiz.izquierdo)\n",
    "        print(raiz.valor)\n",
    "        recorrer_inorden(raiz.derecho)\n",
    "\n",
    "\n",
    "def generar_grafico(raiz, dot=None):\n",
    "    if dot is None:\n",
    "        dot = graphviz.Digraph(comment='Árbol Binario')\n",
    "    \n",
    "    if raiz:\n",
    "        dot.node(str(raiz.valor))\n",
    "        \n",
    "        if raiz.izquierdo:\n",
    "            dot.edge(str(raiz.valor), str(raiz.izquierdo.valor))\n",
    "            generar_grafico(raiz.izquierdo, dot)\n",
    "        \n",
    "        if raiz.derecho:\n",
    "            dot.edge(str(raiz.valor), str(raiz.derecho.valor))\n",
    "            generar_grafico(raiz.derecho, dot)\n",
    "    \n",
    "    return dot\n",
    "\n",
    "\n",
    "# Ejemplo de uso\n",
    "raiz = None\n",
    "raiz = insertar(raiz, \"/\")\n",
    "raiz = insertar(raiz, \"sum()\")\n",
    "raiz = insertar(raiz, \"N\")\n",
    "raiz = insertar(raiz, \"-\")\n",
    "raiz = insertar(raiz, \"CoPy\")\n",
    "raiz = insertar(raiz, \"mean()\")\n",
    "# raiz = insertar(raiz, \"CoPy\")\n",
    "\n",
    "# Generar el gráfico\n",
    "dot = generar_grafico(raiz)\n",
    "dot.render('arbol_binario', view=True)"
   ]
  },
  {
   "cell_type": "code",
   "execution_count": 64,
   "metadata": {},
   "outputs": [
    {
     "data": {
      "text/plain": [
       "'arbol_binario.pdf'"
      ]
     },
     "execution_count": 64,
     "metadata": {},
     "output_type": "execute_result"
    }
   ],
   "source": [
    "import graphviz\n",
    "\n",
    "class Nodo:\n",
    "    def __init__(self, valor):\n",
    "        self.valor = valor\n",
    "        self.izquierdo = None\n",
    "        self.derecho = None\n",
    "\n",
    "def insertar(raiz, valor, nivel=0):\n",
    "    if raiz is None:\n",
    "        return Nodo(valor)\n",
    "    else:\n",
    "        if raiz.izquierdo is None:\n",
    "            raiz.izquierdo = insertar(raiz.izquierdo, valor, nivel + 1)\n",
    "        elif raiz.derecho is None:\n",
    "            raiz.derecho = insertar(raiz.derecho, valor, nivel + 1)\n",
    "        else:\n",
    "            raiz.izquierdo = insertar(raiz.izquierdo, valor, nivel + 1)\n",
    "    return raiz\n",
    "\n",
    "def generar_grafico(raiz, dot=None):\n",
    "    if dot is None:\n",
    "        dot = graphviz.Digraph(comment='Árbol Binario')\n",
    "    \n",
    "    if raiz:\n",
    "        dot.node(str(raiz.valor))\n",
    "        \n",
    "        if raiz.izquierdo:\n",
    "            dot.edge(str(raiz.valor), str(raiz.izquierdo.valor))\n",
    "            generar_grafico(raiz.izquierdo, dot)\n",
    "        \n",
    "        if raiz.derecho:\n",
    "            dot.edge(str(raiz.valor), str(raiz.derecho.valor))\n",
    "            generar_grafico(raiz.derecho, dot)\n",
    "    \n",
    "    return dot\n",
    "\n",
    "# Ejemplo de uso\n",
    "raiz = None\n",
    "raiz = insertar(raiz, \"/\")\n",
    "raiz = insertar(raiz, \"sum()\", nivel=1)\n",
    "raiz = insertar(raiz, \"N\", nivel=1)\n",
    "raiz = insertar(raiz, \"-\", nivel=1)\n",
    "raiz = insertar(raiz, \"CoPx\", nivel=2)\n",
    "raiz = insertar(raiz, \"CoPy\", nivel=2)\n",
    "raiz = insertar(raiz, \"mean()\", nivel=2)\n",
    "raiz = insertar(raiz, \"CoPxx\", nivel=1)\n",
    "\n",
    "\n",
    "# Generar el gráfico\n",
    "dot = generar_grafico(raiz)\n",
    "dot.render('arbol_binario', view=True)\n"
   ]
  },
  {
   "cell_type": "code",
   "execution_count": 65,
   "metadata": {},
   "outputs": [
    {
     "name": "stdout",
     "output_type": "stream",
     "text": [
      "<__main__.Nodo object at 0x000001B959EEB710>\n"
     ]
    }
   ],
   "source": [
    "print(raiz)"
   ]
  },
  {
   "cell_type": "code",
   "execution_count": 66,
   "metadata": {},
   "outputs": [
    {
     "data": {
      "text/plain": [
       "'arbol_binario.pdf'"
      ]
     },
     "execution_count": 66,
     "metadata": {},
     "output_type": "execute_result"
    }
   ],
   "source": [
    "def insertar_con_nivel_manual(raiz, valor, nivel):\n",
    "    if nivel == 0:\n",
    "        return Nodo(valor)  # Insertar en el nivel 0 crea un nuevo árbol con ese valor\n",
    "    if raiz is None:\n",
    "        return None  # No se puede insertar en un nivel específico si el árbol está vacío\n",
    "    \n",
    "    if nivel == 1:\n",
    "        nuevo_nodo = Nodo(valor)\n",
    "        nuevo_nodo.izquierdo = raiz.izquierdo\n",
    "        raiz.izquierdo = nuevo_nodo\n",
    "    else:\n",
    "        raiz.izquierdo = insertar_con_nivel_manual(raiz.izquierdo, valor, nivel - 1)\n",
    "    \n",
    "    return raiz\n",
    "\n",
    "# Ejemplo de uso\n",
    "raiz = None\n",
    "raiz = insertar_con_nivel_manual(raiz, 5, 1)  # Insertar el valor 5 en el nivel 1\n",
    "raiz = insertar_con_nivel_manual(raiz, 3, 1)  # Insertar el valor 3 en el nivel 1\n",
    "raiz = insertar_con_nivel_manual(raiz, 8, 2)  # Insertar el valor 8 en el nivel 2\n",
    "raiz = insertar_con_nivel_manual(raiz, 2, 2)  # Insertar el valor 2 en el nivel 2\n",
    "raiz = insertar_con_nivel_manual(raiz, 0, 3)  # Insertar el valor 0 en el nivel 3\n",
    "\n",
    "\n",
    "\n",
    "def generar_grafico(raiz, dot=None):\n",
    "    if dot is None:\n",
    "        dot = graphviz.Digraph(comment='Árbol Binario')\n",
    "    \n",
    "    if raiz:\n",
    "        dot.node(str(raiz.valor))\n",
    "        \n",
    "        if raiz.izquierdo:\n",
    "            dot.edge(str(raiz.valor), str(raiz.izquierdo.valor))\n",
    "            generar_grafico(raiz.izquierdo, dot)\n",
    "        \n",
    "        if raiz.derecho:\n",
    "            dot.edge(str(raiz.valor), str(raiz.derecho.valor))\n",
    "            generar_grafico(raiz.derecho, dot)\n",
    "    \n",
    "    return dot\n",
    "\n",
    "# Generar el gráfico\n",
    "dot = generar_grafico(raiz)\n",
    "dot.render('arbol_binario', view=True)\n"
   ]
  },
  {
   "cell_type": "code",
   "execution_count": 67,
   "metadata": {},
   "outputs": [
    {
     "name": "stdout",
     "output_type": "stream",
     "text": [
      "None\n"
     ]
    }
   ],
   "source": [
    "print(raiz)"
   ]
  },
  {
   "cell_type": "code",
   "execution_count": 79,
   "metadata": {},
   "outputs": [
    {
     "name": "stdout",
     "output_type": "stream",
     "text": [
      "NUEVO NODO\n",
      "ENTREEEEE\n",
      " Valor: 2 en nivel -> 1L\n",
      "el 3 en el nivel1\n",
      "ENTREEEEE\n",
      " Valor: 3 en nivel -> 1R\n",
      "el 8 en el nivel1\n",
      "ENTREEEEE\n",
      " Valor: 4 en nivel -> 2L\n",
      " Valor: 4 en nivel -> 2L\n",
      "el 2 en el nivel2\n",
      "ENTREEEEE\n",
      " Valor: 5 en nivel -> 2R\n",
      " Valor: 5 en nivel -> 2R\n"
     ]
    },
    {
     "data": {
      "text/plain": [
       "'arbol_binario.pdf'"
      ]
     },
     "execution_count": 79,
     "metadata": {},
     "output_type": "execute_result"
    }
   ],
   "source": [
    "import graphviz\n",
    "\n",
    "class Nodo:\n",
    "    def __init__(self, valor):\n",
    "        self.valor = valor\n",
    "        self.izquierdo = None\n",
    "        self.derecho = None\n",
    "\n",
    "def insertar_con_nivel_manual(raiz, valor, nivel, side , position, nivel_actual=0):\n",
    "    if nivel == nivel_actual:\n",
    "        nuevo_nodo = Nodo(valor)\n",
    "        if position == \"C\":\n",
    "            nuevo_nodo.izquierdo = raiz\n",
    "            print(\"NUEVO NODO\")\n",
    "            return nuevo_nodo, nivel_actual\n",
    "        print(\"ENTREEEEE\")\n",
    "        return nuevo_nodo, nivel_actual\n",
    "    elif raiz is not None:\n",
    "        if side == \"L\":\n",
    "            if position == \"L\":\n",
    "                raiz.izquierdo, nivel_insertado = insertar_con_nivel_manual(raiz.izquierdo, valor, nivel, side ,position, nivel_actual + 1)\n",
    "                print(\" Valor: \" + str(valor) + \" en nivel -> \" + str(nivel_insertado) + \"L\")\n",
    "                return raiz, nivel_insertado\n",
    "            elif position == \"R\":\n",
    "                raiz.derecho, nivel_insertado = insertar_con_nivel_manual(raiz.derecho, valor, nivel, side , position, nivel_actual+1 )\n",
    "                print(\" Valor: \" + str(valor) + \" en nivel -> \" + str(nivel_insertado) + \"R\")\n",
    "                return raiz, nivel_insertado\n",
    "        elif side == \"R\":\n",
    "            if position == \"L\":\n",
    "                raiz.izquierdo, nivel_insertado = insertar_con_nivel_manual(raiz.izquierdo, valor, nivel, side ,position, nivel_actual + 1)\n",
    "                print(\" Valor: \" + str(valor) + \" en nivel -> \" + str(nivel_insertado) + \"L\")\n",
    "                return raiz, nivel_insertado\n",
    "            elif position == \"R\":\n",
    "                raiz.derecho, nivel_insertado = insertar_con_nivel_manual(raiz.derecho, valor, nivel, side , position, nivel_actual + 1)\n",
    "                print(\" Valor: \" + str(valor) + \" en nivel -> \" + str(nivel_insertado) + \"R\")\n",
    "                return raiz, nivel_insertado\n",
    "\n",
    "        \n",
    "    return raiz, nivel_actual\n",
    "\n",
    "def generar_grafico(raiz, dot=None):\n",
    "    if dot is None:\n",
    "        dot = graphviz.Digraph(comment='Árbol Binario')\n",
    "    \n",
    "    if raiz:\n",
    "        dot.node(str(raiz.valor))\n",
    "        \n",
    "        if raiz.izquierdo:\n",
    "            dot.edge(str(raiz.valor), str(raiz.izquierdo.valor))\n",
    "            generar_grafico(raiz.izquierdo, dot)\n",
    "        \n",
    "        if raiz.derecho:\n",
    "            dot.edge(str(raiz.valor), str(raiz.derecho.valor))\n",
    "            generar_grafico(raiz.derecho, dot)\n",
    "    \n",
    "    return dot\n",
    "\n",
    "# Ejemplo de uso\n",
    "raiz = None\n",
    "raiz, nivel_insertado = insertar_con_nivel_manual(raiz, 1, 0, \"C\", \"C\")  # Insertar el valor 5 en el nivel 0\n",
    "raiz, nivel_insertado = insertar_con_nivel_manual(raiz, 2, 1, \"L\", \"L\")  # Insertar el valor 3 en el nivel 1\n",
    "print(\"el 3 en el nivel\" + str(nivel_insertado))\n",
    "raiz, nivel_insertado = insertar_con_nivel_manual(raiz, 3, 1,\"R\",\"R\")  # Insertar el valor 8 en el nivel 2\n",
    "print(\"el 8 en el nivel\" + str(nivel_insertado))\n",
    "raiz, nivel_insertado = insertar_con_nivel_manual(raiz, 4, 2,\"L\" ,\"L\")  # Insertar el valor 2 en el nivel 2\n",
    "print(\"el 2 en el nivel\" + str(nivel_insertado))\n",
    "raiz, nivel_insertado = insertar_con_nivel_manual(raiz, 5, 2,\"L\",\"R\")  # Insertar el valor 0 en el nivel 3\n",
    "# print(\"el 0 en el nivel\" + str(nivel_insertado))\n",
    "\n",
    "# Generar el gráfico\n",
    "dot = generar_grafico(raiz)\n",
    "dot.render('arbol_binario', view=True)"
   ]
  },
  {
   "cell_type": "code",
   "execution_count": 161,
   "metadata": {},
   "outputs": [
    {
     "data": {
      "text/plain": [
       "'arbol_binario.pdf'"
      ]
     },
     "execution_count": 161,
     "metadata": {},
     "output_type": "execute_result"
    }
   ],
   "source": [
    "import graphviz\n",
    "\n",
    "class Nodo:\n",
    "    def __init__(self, valor):\n",
    "        self.valor = valor\n",
    "        self.izquierdo = None\n",
    "        self.derecho = None\n",
    "\n",
    "def insertar_con_nivel_manual(raiz, valor, nivel, lado, posicion, nivel_actual=0):\n",
    "    if nivel == nivel_actual:\n",
    "        return Nodo(valor), nivel_actual\n",
    "\n",
    "    if raiz is None:\n",
    "        return None, nivel_actual\n",
    "\n",
    "    if nivel == nivel_actual + 1:\n",
    "        nuevo_nodo = Nodo(valor)\n",
    "        if lado == \"Izquierdo\" and posicion == \"Izquierdo\":\n",
    "            raiz.izquierdo = nuevo_nodo\n",
    "        elif lado == \"Izquierdo\" and posicion == \"Derecho\":\n",
    "            raiz.derecho = nuevo_nodo\n",
    "        elif lado == \"Derecho\" and posicion == \"Izquierdo\":\n",
    "            raiz.izquierdo = nuevo_nodo\n",
    "        elif lado == \"Derecho\" and posicion == \"Derecho\":\n",
    "            raiz.derecho = nuevo_nodo\n",
    "        return nuevo_nodo, nivel_actual + 1\n",
    "\n",
    "    if lado == \"Izquierdo\":\n",
    "        if posicion == \"Izquierdo\":\n",
    "            raiz.izquierdo, nivel_insertado = insertar_con_nivel_manual(raiz.izquierdo, valor, nivel, lado, posicion, nivel_actual + 1)\n",
    "        elif posicion == \"Derecho\":\n",
    "            raiz.izquierdo, nivel_insertado = insertar_con_nivel_manual(raiz.izquierdo, valor, nivel, lado, posicion, nivel_actual + 1)\n",
    "    elif lado == \"Derecho\":\n",
    "        if posicion == \"Izquierdo\":\n",
    "            raiz.derecho, nivel_insertado = insertar_con_nivel_manual(raiz.derecho, valor, nivel, lado, posicion, nivel_actual + 1)\n",
    "        elif posicion == \"Derecho\":\n",
    "            raiz.derecho, nivel_insertado = insertar_con_nivel_manual(raiz.derecho, valor, nivel, lado, posicion, nivel_actual + 1)\n",
    "\n",
    "    return raiz, nivel_insertado\n",
    "\n",
    "def generar_grafico(raiz, dot=None):\n",
    "    if dot is None:\n",
    "        dot = graphviz.Digraph(comment='Árbol Binario')\n",
    "\n",
    "    if raiz:\n",
    "        dot.node(str(raiz.valor))\n",
    "\n",
    "        if raiz.izquierdo:\n",
    "            dot.edge(str(raiz.valor), str(raiz.izquierdo.valor))\n",
    "            generar_grafico(raiz.izquierdo, dot)\n",
    "\n",
    "        if raiz.derecho:\n",
    "            dot.edge(str(raiz.valor), str(raiz.derecho.valor))\n",
    "            generar_grafico(raiz.derecho, dot)\n",
    "\n",
    "    return dot\n",
    "\n",
    "# Ejemplo de uso\n",
    "raiz = None\n",
    "raiz, nivel_insertado = insertar_con_nivel_manual(raiz, 1, 0, \"Centro\", \"Centro\")  # Insertar el valor 1 en el nivel 0, en el centro\n",
    "raiz, nivel_insertado = insertar_con_nivel_manual(raiz, 2, 1, \"Izquierdo\", \"Izquierdo\")  # Insertar el valor 2 en el nivel 1, en el lado izquierdo\n",
    "raiz, nivel_insertado = insertar_con_nivel_manual(raiz, 3, 1, \"Derecho\", \"Derecho\")  # Insertar el valor 3 en el nivel 1, en el lado derecho\n",
    "raiz, nivel_insertado = insertar_con_nivel_manual(raiz, 4, 2, \"Izquierdo\", \"Izquierdo\")  # Insertar el valor 4 en el nivel 2, en el lado izquierdo\n",
    "raiz, nivel_insertado = insertar_con_nivel_manual(raiz, 5, 2, \"Izquierdo\", \"Derecho\")  # Insertar el valor 5 en el nivel 2, en el lado derecho del nodo 4\n",
    "\n",
    "# Generar el gráfico\n",
    "dot = generar_grafico(raiz)\n",
    "dot.render('arbol_binario', view=True)\n"
   ]
  },
  {
   "cell_type": "code",
   "execution_count": 168,
   "metadata": {},
   "outputs": [
    {
     "data": {
      "text/plain": [
       "'arbol_binario.pdf'"
      ]
     },
     "execution_count": 168,
     "metadata": {},
     "output_type": "execute_result"
    }
   ],
   "source": [
    "import graphviz\n",
    "\n",
    "class Nodo:\n",
    "    def __init__(self, valor):\n",
    "        self.valor = valor\n",
    "        self.izquierdo = None\n",
    "        self.derecho = None\n",
    "\n",
    "def insertar_con_nivel_manual(raiz, valor, nivel, lado, posicion, nivel_actual=0):\n",
    "    if nivel == nivel_actual:\n",
    "        return Nodo(valor), nivel_actual\n",
    "\n",
    "    if raiz is None:\n",
    "        return None, nivel_actual\n",
    "\n",
    "    if nivel == nivel_actual + 1:\n",
    "        nuevo_nodo = Nodo(valor)\n",
    "        return nuevo_nodo, nivel_actual + 1\n",
    "\n",
    "    if lado == \"Izquierdo\":\n",
    "        if posicion == \"Izquierdo\":\n",
    "            raiz.izquierdo, nivel_insertado = insertar_con_nivel_manual(raiz.izquierdo, valor, nivel, lado, posicion, nivel_actual + 1)\n",
    "        elif posicion == \"Derecho\":\n",
    "            raiz.derecho, nivel_insertado = insertar_con_nivel_manual(raiz.derecho, valor, nivel, lado, posicion, nivel_actual + 1)\n",
    "    elif lado == \"Derecho\":\n",
    "        if posicion == \"Izquierdo\":\n",
    "            raiz.izquierdo, nivel_insertado = insertar_con_nivel_manual(raiz.izquierdo, valor, nivel, lado, posicion, nivel_actual + 1)\n",
    "        elif posicion == \"Derecho\":\n",
    "            raiz.derecho, nivel_insertado = insertar_con_nivel_manual(raiz.derecho, valor, nivel, lado, posicion, nivel_actual + 1)\n",
    "\n",
    "    return raiz, nivel_insertado\n",
    "\n",
    "def generar_grafico(raiz, dot=None):\n",
    "    if dot is None:\n",
    "        dot = graphviz.Digraph(comment='Árbol Binario')\n",
    "\n",
    "    if raiz:\n",
    "        dot.node(str(raiz.valor))\n",
    "\n",
    "        if raiz.izquierdo:\n",
    "            dot.edge(str(raiz.valor), str(raiz.izquierdo.valor))\n",
    "            generar_grafico(raiz.izquierdo, dot)\n",
    "\n",
    "        if raiz.derecho:\n",
    "            dot.edge(str(raiz.valor), str(raiz.derecho.valor))\n",
    "            generar_grafico(raiz.derecho, dot)\n",
    "\n",
    "    return dot\n",
    "\n",
    "# Ejemplo de uso\n",
    "raiz = Nodo(1)\n",
    "raiz, _ = insertar_con_nivel_manual(raiz, 2, 1, \"Izquierdo\", \"Izquierdo\")\n",
    "raiz, _ = insertar_con_nivel_manual(raiz, 3, 1, \"Derecho\", \"Derecho\")\n",
    "raiz, _ = insertar_con_nivel_manual(raiz, 4, 2, \"Izquierdo\", \"Izquierdo\")\n",
    "raiz, _ = insertar_con_nivel_manual(raiz, 5, 2, \"Izquierdo\", \"Derecho\")\n",
    "\n",
    "# Generar el gráfico\n",
    "dot = generar_grafico(raiz)\n",
    "dot.render('arbol_binario', view=True)\n"
   ]
  },
  {
   "cell_type": "code",
   "execution_count": 184,
   "metadata": {},
   "outputs": [],
   "source": [
    "class Nodo:\n",
    "    def __init__(self, valor):\n",
    "        self.valor = valor\n",
    "        self.izquierdo = None\n",
    "        self.derecho = None\n",
    "\n",
    "raiz = Nodo(\"/\")\n",
    "raiz.izquierdo = Nodo(\".sum()\")\n",
    "raiz.derecho = Nodo(\"N\")\n",
    "raiz.izquierdo.izquierdo = Nodo(\"-\")\n",
    "raiz.izquierdo.izquierdo.izquierdo = Nodo(\"CoPy\")\n",
    "raiz.izquierdo.izquierdo.derecho = Nodo(\".mean()\")\n",
    "raiz.izquierdo.izquierdo.derecho.izquierdo = Nodo(\"CoPy\")"
   ]
  },
  {
   "cell_type": "code",
   "execution_count": 185,
   "metadata": {},
   "outputs": [
    {
     "data": {
      "text/plain": [
       "'arbol_binario.pdf'"
      ]
     },
     "execution_count": 185,
     "metadata": {},
     "output_type": "execute_result"
    }
   ],
   "source": [
    "# Generar el gráfico\n",
    "dot = generar_grafico(raiz)\n",
    "dot.render('arbol_binario', view=True)"
   ]
  },
  {
   "cell_type": "code",
   "execution_count": 188,
   "metadata": {},
   "outputs": [
    {
     "name": "stdout",
     "output_type": "stream",
     "text": [
      "CoP\n",
      "B\n",
      "C\n"
     ]
    },
    {
     "data": {
      "text/plain": [
       "'arbol_binario.pdf'"
      ]
     },
     "execution_count": 188,
     "metadata": {},
     "output_type": "execute_result"
    }
   ],
   "source": [
    "class Nodo:\n",
    "    def __init__(self, valor):\n",
    "        self.valor = valor\n",
    "        self.izquierdo = None\n",
    "        self.derecho = None\n",
    "\n",
    "def crear_arbol_generico(valores, niveles, rama=\"C\", nivel_actual=0):\n",
    "    if nivel_actual >= len(valores):\n",
    "        return None\n",
    "\n",
    "    nuevo_nodo = Nodo(valores[nivel_actual])\n",
    "\n",
    "    if niveles > nivel_actual:\n",
    "        if rama == \"L\":\n",
    "            nuevo_nodo.izquierdo = crear_arbol_generico(valores, niveles, \"L\", nivel_actual + 1)\n",
    "        else:\n",
    "            nuevo_nodo.derecho = crear_arbol_generico(valores, niveles, \"R\", nivel_actual + 1)\n",
    "\n",
    "    return nuevo_nodo\n",
    "\n",
    "# Ejemplo de uso\n",
    "valores = [\"CoP\", \"B\", \"C\", \"D\", \"E\"]\n",
    "nivel_maximo = 2\n",
    "raiz = crear_arbol_generico(valores, nivel_maximo)\n",
    "\n",
    "def imprimir_arbol(arbol):\n",
    "    if arbol:\n",
    "        print(arbol.valor)\n",
    "        imprimir_arbol(arbol.izquierdo)\n",
    "        imprimir_arbol(arbol.derecho)\n",
    "\n",
    "imprimir_arbol(raiz)\n",
    "\n",
    "# Generar el gráfico\n",
    "dot = generar_grafico(raiz)\n",
    "dot.render('arbol_binario', view=True)"
   ]
  }
 ],
 "metadata": {
  "kernelspec": {
   "display_name": "Python 3",
   "language": "python",
   "name": "python3"
  },
  "language_info": {
   "codemirror_mode": {
    "name": "ipython",
    "version": 3
   },
   "file_extension": ".py",
   "mimetype": "text/x-python",
   "name": "python",
   "nbconvert_exporter": "python",
   "pygments_lexer": "ipython3",
   "version": "3.11.5"
  }
 },
 "nbformat": 4,
 "nbformat_minor": 2
}
