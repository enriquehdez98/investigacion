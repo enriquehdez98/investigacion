{
 "cells": [
  {
   "cell_type": "code",
   "execution_count": 94,
   "metadata": {},
   "outputs": [],
   "source": [
    "import graphviz\n",
    "\n",
    "def generar_grafico(raiz, dot=None):\n",
    "    if dot is None:\n",
    "        dot = graphviz.Digraph(comment='Árbol Binario')\n",
    "    \n",
    "    if raiz:\n",
    "        dot.node(str(raiz.root))\n",
    "        \n",
    "        if raiz.left:\n",
    "            dot.edge(str(raiz.root), str(raiz.left.root))\n",
    "            generar_grafico(raiz.left, dot)\n",
    "        \n",
    "        if raiz.right:\n",
    "            dot.edge(str(raiz.root), str(raiz.right.root))\n",
    "            generar_grafico(raiz.right, dot)\n",
    "    \n",
    "    return dot\n",
    "\n",
    "class Node:\n",
    "    def __init__(self, valor):\n",
    "        self.root = valor\n",
    "        self.left = None\n",
    "        self.right = None\n",
    "\n",
    "def tree_inorder(raiz):\n",
    "    result = \"\"  # Inicializamos una cadena vacía para almacenar los valores\n",
    "    \n",
    "    def inorder_recursive(node):\n",
    "        nonlocal result  # Usamos nonlocal para acceder a la variable result definida en el ámbito superior\n",
    "        if node:\n",
    "            # Recorremos el subárbol izquierdo\n",
    "            inorder_recursive(node.left)\n",
    "            \n",
    "            # Visitamos el nodo raíz y concatenamos su valor a la cadena result\n",
    "            result += str(node.root) # + \" \"\n",
    "            \n",
    "            # Recorremos el subárbol derecho\n",
    "            inorder_recursive(node.right)\n",
    "    \n",
    "    inorder_recursive(raiz)  # Llamamos a la función interna para realizar el recorrido in-order\n",
    "    return result \n"
   ]
  },
  {
   "cell_type": "code",
   "execution_count": 117,
   "metadata": {},
   "outputs": [
    {
     "data": {
      "text/plain": [
       "'((CoPy-CoPy.mean())**2+(CoPx-CoPx.mean())**2)**0.5.sum()/N'"
      ]
     },
     "execution_count": 117,
     "metadata": {},
     "output_type": "execute_result"
    }
   ],
   "source": [
    "## MDIST 1\n",
    "#Level 1\n",
    "MDIST1 = Node(\"-\")\n",
    "#Level 2\n",
    "MDIST1.left = Node(\"CoPy\")\n",
    "MDIST1.right = Node(\".mean()\")\n",
    "#Level 3\n",
    "MDIST1.right.left = Node(\"CoPy\")\n",
    "\n",
    "## MDIST 2\n",
    "#Level 1\n",
    "MDIST2 = Node(\"-\")\n",
    "#Level 2\n",
    "MDIST2.left = Node(\"CoPx\")\n",
    "MDIST2.right = Node(\".mean()\")\n",
    "#Level 3\n",
    "MDIST2.right.left = Node(\"CoPx\")\n",
    "\n",
    "## MDIST 3\n",
    "#Leve 1\n",
    "MDIST3 = Node(\"+\")\n",
    "#Level 2\n",
    "MDIST3.left = Node(\"**\")\n",
    "MDIST3.right = Node(\"**\")\n",
    "#Level 3\n",
    "MDIST3.left.left = Node(\"(\"+tree_inorder(MDIST1)+\")\")\n",
    "MDIST3.right.left = Node(\"(\"+tree_inorder(MDIST2)+\")\")\n",
    "MDIST3.left.right = Node(\"2\")\n",
    "MDIST3.right.right = Node(\"2\")\n",
    "\n",
    "# MDIST 4\n",
    "#Level 1\n",
    "MDIST4 = Node(\".sum()\")\n",
    "#Level 2\n",
    "MDIST4.left = Node(\"**\")\n",
    "MDIST4.right = Node(\"/\")\n",
    "#Level 3\n",
    "MDIST4.left.left = Node(\"(\"+tree_inorder(MDIST3)+\")\")\n",
    "MDIST4.left.right = Node(\"0.5\")\n",
    "MDIST4.right.right = Node(\"N\")\n",
    "tree_inorder(MDIST1)\n",
    "tree_inorder(MDIST2)\n",
    "tree_inorder(MDIST3)\n",
    "tree_inorder(MDIST4)\n",
    "\n",
    "# Generar el gráfico\n",
    "# dot = generar_grafico(MDIST4)\n",
    "# dot.render('MDIST', view=True)"
   ]
  },
  {
   "cell_type": "code",
   "execution_count": 127,
   "metadata": {},
   "outputs": [
    {
     "data": {
      "text/plain": [
       "'abs(CoPy-CoPy.mean()).sum()/N'"
      ]
     },
     "execution_count": 127,
     "metadata": {},
     "output_type": "execute_result"
    }
   ],
   "source": [
    "#MDIST AP\n",
    "#Nivel 1\n",
    "MDIST_AP1 = Node(\"-\")\n",
    "#Nivel 2\n",
    "MDIST_AP1.left = Node(\"CoPy\")\n",
    "MDIST_AP1.right = Node(\".mean()\")\n",
    "#Nivel 3\n",
    "MDIST_AP1.right.left = Node(\"CoPy\")\n",
    "\n",
    "#MDIST_AP2\n",
    "#Nivel 1\n",
    "MDIST_AP2 = Node(\"/\")\n",
    "#Nivel 2\n",
    "MDIST_AP2.left = Node(\".sum()\")\n",
    "MDIST_AP2.right = Node(\"N\")\n",
    "#Nivel 3\n",
    "MDIST_AP2.left.left = Node(\"abs(\"+tree_inorder(MDIST_AP1)+\")\")\n",
    "\n",
    "tree_inorder(MDIST_AP1)\n",
    "tree_inorder(MDIST_AP2)"
   ]
  },
  {
   "cell_type": "code",
   "execution_count": 115,
   "metadata": {},
   "outputs": [
    {
     "data": {
      "text/plain": [
       "'abs(CoPx-CoPx.mean())/N'"
      ]
     },
     "execution_count": 115,
     "metadata": {},
     "output_type": "execute_result"
    }
   ],
   "source": [
    "#MDIST ML\n",
    "#Nivel 1\n",
    "MDIST_ML1 = Node(\"-\")\n",
    "#Nivel 2\n",
    "MDIST_ML1.left = Node(\"CoPx\")\n",
    "MDIST_ML1.right = Node(\".mean()\")\n",
    "#Nivel 3\n",
    "MDIST_ML1.right.left = Node(\"CoPx\")\n",
    "\n",
    "#MDIST_ML2\n",
    "#Nivel 1\n",
    "MDIST_ML2 = Node(\"/\")\n",
    "#Nivel 2\n",
    "MDIST_ML2.left = Node(\"abs(\"+tree_inorder(MDIST_ML1)+\")\")\n",
    "MDIST_ML2.right = Node(\"N\")\n",
    "\n",
    "tree_inorder(MDIST_ML1)\n",
    "tree_inorder(MDIST_ML2)"
   ]
  },
  {
   "cell_type": "code",
   "execution_count": 124,
   "metadata": {},
   "outputs": [],
   "source": [
    "# RDIST\n",
    "## RDIST 1\n",
    "#Level 1\n",
    "RDIST1 = Node(\"-\")\n",
    "#Level 2\n",
    "RDIST1.left = Node(\"CoPy\")\n",
    "RDIST1.right = Node(\".mean()\")\n",
    "#Level 3\n",
    "RDIST1.right.left = Node(\"CoPy\")\n",
    "\n",
    "## RDIST 2\n",
    "#Level 1\n",
    "RDIST2 = Node(\"-\")\n",
    "#Level 2\n",
    "RDIST2.left = Node(\"CoPx\")\n",
    "RDIST2.right = Node(\".mean()\")\n",
    "#Level 3\n",
    "RDIST2.right.left = Node(\"CoPx\")\n",
    "\n",
    "## RDIST 3\n",
    "#Leve 1\n",
    "RDIST3 = Node(\"+\")\n",
    "#Level 2\n",
    "RDIST3.left = Node(\"**\")\n",
    "RDIST3.right = Node(\"**\")\n",
    "#Level 3\n",
    "RDIST3.left.left = Node(\"(\"+tree_inorder(RDIST1)+\")\")\n",
    "RDIST3.right.left = Node(\"(\"+tree_inorder(RDIST2)+\")\")\n",
    "RDIST3.left.right = Node(\"2\")\n",
    "RDIST3.right.right = Node(\"2\")\n",
    "\n",
    "# RDIST 4\n",
    "#Level 1\n",
    "RDIST4 = Node(\".sum()\")\n",
    "#Level 2\n",
    "RDIST4.left = Node(\"**\")\n",
    "RDIST4.right = Node(\"/\")\n",
    "#Level 3\n",
    "RDIST4.left.left = Node(\"**\")\n",
    "RDIST4.left.right = Node(\"2\")\n",
    "RDIST4.right.right = Node(\"N\")\n",
    "#Level 4\n",
    "RDIST4.left.left.left = Node(\"(\"+tree_inorder(MDIST3)+\")\")\n",
    "RDIST4.left.left.right = Node(\"0.5\")\n",
    "\n",
    "tree_inorder(RDIST4)\n"
   ]
  },
  {
   "cell_type": "code",
   "execution_count": 134,
   "metadata": {},
   "outputs": [
    {
     "data": {
      "text/plain": [
       "'((CoPy-CoPy.mean()).sum()**2/N)**0.5'"
      ]
     },
     "execution_count": 134,
     "metadata": {},
     "output_type": "execute_result"
    }
   ],
   "source": [
    "#RDIST AP\n",
    "\n",
    "#RDIST_AP1\n",
    "#Nivel 1\n",
    "RDIST_AP1 = Node(\"-\")\n",
    "#Nivel 2\n",
    "RDIST_AP1.left = Node(\"CoPy\")\n",
    "RDIST_AP1.right = Node(\".mean()\")\n",
    "#Nivel 3\n",
    "RDIST_AP1.right.left = Node(\"CoPy\")\n",
    "\n",
    "#RDIST_AP2\n",
    "#Nivel 1\n",
    "RDIST_AP2 = Node(\"/\")\n",
    "#Nivel 2\n",
    "RDIST_AP2.left = Node(\"**\")\n",
    "RDIST_AP2.right = Node(\"N\")\n",
    "#Nivel 3\n",
    "RDIST_AP2.left.left = Node(\".sum()\")\n",
    "RDIST_AP2.left.right = Node(\"2\")\n",
    "#Nivel 4\n",
    "RDIST_AP2.left.left.left = Node(\"(\"+tree_inorder(RDIST_AP1)+\")\")\n",
    "\n",
    "#RDIST_AP3\n",
    "#Nivel 1\n",
    "RDIST_AP3 = Node(\"**\")\n",
    "#Nivel 2\n",
    "RDIST_AP3.left = Node(\"(\"+tree_inorder(RDIST_AP2)+\")\")\n",
    "RDIST_AP3.right = Node(\"0.5\")\n",
    "\n",
    "tree_inorder(RDIST_AP3)"
   ]
  }
 ],
 "metadata": {
  "kernelspec": {
   "display_name": "Python 3",
   "language": "python",
   "name": "python3"
  },
  "language_info": {
   "codemirror_mode": {
    "name": "ipython",
    "version": 3
   },
   "file_extension": ".py",
   "mimetype": "text/x-python",
   "name": "python",
   "nbconvert_exporter": "python",
   "pygments_lexer": "ipython3",
   "version": "3.11.5"
  }
 },
 "nbformat": 4,
 "nbformat_minor": 2
}
